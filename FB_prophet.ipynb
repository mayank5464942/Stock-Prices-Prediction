{
  "nbformat": 4,
  "nbformat_minor": 0,
  "metadata": {
    "colab": {
      "name": "FB_prophet.ipynb",
      "provenance": [],
      "include_colab_link": true
    },
    "kernelspec": {
      "name": "python3",
      "display_name": "Python 3"
    }
  },
  "cells": [
    {
      "cell_type": "markdown",
      "metadata": {
        "id": "view-in-github",
        "colab_type": "text"
      },
      "source": [
        "<a href=\"https://colab.research.google.com/github/mayank5464942/Stock-Prices-Prediction/blob/master/FB_prophet.ipynb\" target=\"_parent\"><img src=\"https://colab.research.google.com/assets/colab-badge.svg\" alt=\"Open In Colab\"/></a>"
      ]
    },
    {
      "cell_type": "code",
      "metadata": {
        "id": "MuQ8-k7d6-pW",
        "colab_type": "code",
        "colab": {}
      },
      "source": [
        "#importing required dataset\n",
        "import pandas as pd \n",
        "import matplotlib.pyplot as plt\n",
        "import numpy as np"
      ],
      "execution_count": 0,
      "outputs": []
    },
    {
      "cell_type": "code",
      "metadata": {
        "id": "jjPnYa_h7EzC",
        "colab_type": "code",
        "colab": {
          "base_uri": "https://localhost:8080/",
          "height": 121
        },
        "outputId": "22372bee-926b-45c4-f4d5-65ed71d9988b"
      },
      "source": [
        "from google.colab import drive\n",
        "drive.mount('/content/drive')"
      ],
      "execution_count": 2,
      "outputs": [
        {
          "output_type": "stream",
          "text": [
            "Go to this URL in a browser: https://accounts.google.com/o/oauth2/auth?client_id=947318989803-6bn6qk8qdgf4n4g3pfee6491hc0brc4i.apps.googleusercontent.com&redirect_uri=urn%3aietf%3awg%3aoauth%3a2.0%3aoob&response_type=code&scope=email%20https%3a%2f%2fwww.googleapis.com%2fauth%2fdocs.test%20https%3a%2f%2fwww.googleapis.com%2fauth%2fdrive%20https%3a%2f%2fwww.googleapis.com%2fauth%2fdrive.photos.readonly%20https%3a%2f%2fwww.googleapis.com%2fauth%2fpeopleapi.readonly\n",
            "\n",
            "Enter your authorization code:\n",
            "··········\n",
            "Mounted at /content/drive\n"
          ],
          "name": "stdout"
        }
      ]
    },
    {
      "cell_type": "code",
      "metadata": {
        "id": "NPhzr7gD7Gqa",
        "colab_type": "code",
        "colab": {}
      },
      "source": [
        "#importing the dataset\n",
        "df=pd.read_csv('/content/drive/My Drive/Stock_pred/Dataset/NSE-TATAGLOBAL11.csv')\n"
      ],
      "execution_count": 0,
      "outputs": []
    },
    {
      "cell_type": "code",
      "metadata": {
        "id": "S3nFZqgV7byq",
        "colab_type": "code",
        "colab": {}
      },
      "source": [
        "#setting index as date values\n",
        "df['Date'] = pd.to_datetime(df.Date,format='%Y-%m-%d')\n",
        "df.index = df['Date']\n"
      ],
      "execution_count": 0,
      "outputs": []
    },
    {
      "cell_type": "code",
      "metadata": {
        "id": "YzDuGhp47drE",
        "colab_type": "code",
        "colab": {}
      },
      "source": [
        "#sorting\n",
        "data = df.sort_index(ascending=True, axis=0)\n"
      ],
      "execution_count": 0,
      "outputs": []
    },
    {
      "cell_type": "code",
      "metadata": {
        "id": "r7u49yza7nuv",
        "colab_type": "code",
        "colab": {}
      },
      "source": [
        "#importing prophet\n",
        "from fbprophet import Prophet\n",
        "\n"
      ],
      "execution_count": 0,
      "outputs": []
    },
    {
      "cell_type": "code",
      "metadata": {
        "id": "HFXz04_b7nyQ",
        "colab_type": "code",
        "colab": {}
      },
      "source": [
        "#creating dataframe\n",
        "new_data = pd.DataFrame(index=range(0,len(df)),columns=['Date', 'Close'])\n",
        "\n",
        "for i in range(0,len(data)):\n",
        "    new_data['Date'][i] = data['Date'][i]\n",
        "    new_data['Close'][i] = data['Close'][i]\n",
        "\n",
        "new_data['Date'] = pd.to_datetime(new_data.Date,format='%Y-%m-%d')\n",
        "new_data.index = new_data['Date']"
      ],
      "execution_count": 0,
      "outputs": []
    },
    {
      "cell_type": "code",
      "metadata": {
        "id": "evj3FksC7n2i",
        "colab_type": "code",
        "colab": {}
      },
      "source": [
        "#preparing data\n",
        "new_data.rename(columns={'Close': 'y', 'Date': 'ds'}, inplace=True)\n",
        "\n"
      ],
      "execution_count": 0,
      "outputs": []
    },
    {
      "cell_type": "code",
      "metadata": {
        "id": "iqc1Fe-47n49",
        "colab_type": "code",
        "colab": {}
      },
      "source": [
        "#train and validation\n",
        "train = new_data[:987]\n",
        "valid = new_data[987:]\n",
        "\n"
      ],
      "execution_count": 0,
      "outputs": []
    },
    {
      "cell_type": "code",
      "metadata": {
        "id": "2QEodFPQ7n7J",
        "colab_type": "code",
        "colab": {
          "base_uri": "https://localhost:8080/",
          "height": 67
        },
        "outputId": "2e394e02-96a8-4e1a-f03d-0bd4f9ca3444"
      },
      "source": [
        "#fit the model\n",
        "model = Prophet()\n",
        "model.fit(train)"
      ],
      "execution_count": 13,
      "outputs": [
        {
          "output_type": "stream",
          "text": [
            "INFO:numexpr.utils:NumExpr defaulting to 2 threads.\n",
            "INFO:fbprophet:Disabling daily seasonality. Run prophet with daily_seasonality=True to override this.\n"
          ],
          "name": "stderr"
        },
        {
          "output_type": "execute_result",
          "data": {
            "text/plain": [
              "<fbprophet.forecaster.Prophet at 0x7f183b919438>"
            ]
          },
          "metadata": {
            "tags": []
          },
          "execution_count": 13
        }
      ]
    },
    {
      "cell_type": "code",
      "metadata": {
        "id": "b_Lyqi6n7n9b",
        "colab_type": "code",
        "colab": {
          "base_uri": "https://localhost:8080/",
          "height": 590
        },
        "outputId": "6e040dde-cfd1-493b-d235-7bcb4c02a8cd"
      },
      "source": [
        "#predictions\n",
        "close_prices = model.make_future_dataframe(periods=len(valid))\n",
        "forecast = model.predict(close_prices)\n",
        "forecast"
      ],
      "execution_count": 14,
      "outputs": [
        {
          "output_type": "execute_result",
          "data": {
            "text/html": [
              "<div>\n",
              "<style scoped>\n",
              "    .dataframe tbody tr th:only-of-type {\n",
              "        vertical-align: middle;\n",
              "    }\n",
              "\n",
              "    .dataframe tbody tr th {\n",
              "        vertical-align: top;\n",
              "    }\n",
              "\n",
              "    .dataframe thead th {\n",
              "        text-align: right;\n",
              "    }\n",
              "</style>\n",
              "<table border=\"1\" class=\"dataframe\">\n",
              "  <thead>\n",
              "    <tr style=\"text-align: right;\">\n",
              "      <th></th>\n",
              "      <th>ds</th>\n",
              "      <th>trend</th>\n",
              "      <th>yhat_lower</th>\n",
              "      <th>yhat_upper</th>\n",
              "      <th>trend_lower</th>\n",
              "      <th>trend_upper</th>\n",
              "      <th>additive_terms</th>\n",
              "      <th>additive_terms_lower</th>\n",
              "      <th>additive_terms_upper</th>\n",
              "      <th>weekly</th>\n",
              "      <th>weekly_lower</th>\n",
              "      <th>weekly_upper</th>\n",
              "      <th>yearly</th>\n",
              "      <th>yearly_lower</th>\n",
              "      <th>yearly_upper</th>\n",
              "      <th>multiplicative_terms</th>\n",
              "      <th>multiplicative_terms_lower</th>\n",
              "      <th>multiplicative_terms_upper</th>\n",
              "      <th>yhat</th>\n",
              "    </tr>\n",
              "  </thead>\n",
              "  <tbody>\n",
              "    <tr>\n",
              "      <th>0</th>\n",
              "      <td>2013-10-08</td>\n",
              "      <td>149.334671</td>\n",
              "      <td>148.743072</td>\n",
              "      <td>167.386106</td>\n",
              "      <td>149.334671</td>\n",
              "      <td>149.334671</td>\n",
              "      <td>8.658394</td>\n",
              "      <td>8.658394</td>\n",
              "      <td>8.658394</td>\n",
              "      <td>-1.505735</td>\n",
              "      <td>-1.505735</td>\n",
              "      <td>-1.505735</td>\n",
              "      <td>10.164129</td>\n",
              "      <td>10.164129</td>\n",
              "      <td>10.164129</td>\n",
              "      <td>0.0</td>\n",
              "      <td>0.0</td>\n",
              "      <td>0.0</td>\n",
              "      <td>157.993065</td>\n",
              "    </tr>\n",
              "    <tr>\n",
              "      <th>1</th>\n",
              "      <td>2013-10-09</td>\n",
              "      <td>149.368305</td>\n",
              "      <td>149.402028</td>\n",
              "      <td>167.526324</td>\n",
              "      <td>149.368305</td>\n",
              "      <td>149.368305</td>\n",
              "      <td>9.042461</td>\n",
              "      <td>9.042461</td>\n",
              "      <td>9.042461</td>\n",
              "      <td>-1.372551</td>\n",
              "      <td>-1.372551</td>\n",
              "      <td>-1.372551</td>\n",
              "      <td>10.415012</td>\n",
              "      <td>10.415012</td>\n",
              "      <td>10.415012</td>\n",
              "      <td>0.0</td>\n",
              "      <td>0.0</td>\n",
              "      <td>0.0</td>\n",
              "      <td>158.410766</td>\n",
              "    </tr>\n",
              "    <tr>\n",
              "      <th>2</th>\n",
              "      <td>2013-10-10</td>\n",
              "      <td>149.401940</td>\n",
              "      <td>149.423002</td>\n",
              "      <td>168.577963</td>\n",
              "      <td>149.401940</td>\n",
              "      <td>149.401940</td>\n",
              "      <td>9.419985</td>\n",
              "      <td>9.419985</td>\n",
              "      <td>9.419985</td>\n",
              "      <td>-1.260225</td>\n",
              "      <td>-1.260225</td>\n",
              "      <td>-1.260225</td>\n",
              "      <td>10.680209</td>\n",
              "      <td>10.680209</td>\n",
              "      <td>10.680209</td>\n",
              "      <td>0.0</td>\n",
              "      <td>0.0</td>\n",
              "      <td>0.0</td>\n",
              "      <td>158.821925</td>\n",
              "    </tr>\n",
              "    <tr>\n",
              "      <th>3</th>\n",
              "      <td>2013-10-11</td>\n",
              "      <td>149.435574</td>\n",
              "      <td>149.845396</td>\n",
              "      <td>168.462260</td>\n",
              "      <td>149.435574</td>\n",
              "      <td>149.435574</td>\n",
              "      <td>9.810957</td>\n",
              "      <td>9.810957</td>\n",
              "      <td>9.810957</td>\n",
              "      <td>-1.141598</td>\n",
              "      <td>-1.141598</td>\n",
              "      <td>-1.141598</td>\n",
              "      <td>10.952555</td>\n",
              "      <td>10.952555</td>\n",
              "      <td>10.952555</td>\n",
              "      <td>0.0</td>\n",
              "      <td>0.0</td>\n",
              "      <td>0.0</td>\n",
              "      <td>159.246532</td>\n",
              "    </tr>\n",
              "    <tr>\n",
              "      <th>4</th>\n",
              "      <td>2013-10-14</td>\n",
              "      <td>149.536478</td>\n",
              "      <td>150.134415</td>\n",
              "      <td>169.790971</td>\n",
              "      <td>149.536478</td>\n",
              "      <td>149.536478</td>\n",
              "      <td>10.446230</td>\n",
              "      <td>10.446230</td>\n",
              "      <td>10.446230</td>\n",
              "      <td>-1.287491</td>\n",
              "      <td>-1.287491</td>\n",
              "      <td>-1.287491</td>\n",
              "      <td>11.733721</td>\n",
              "      <td>11.733721</td>\n",
              "      <td>11.733721</td>\n",
              "      <td>0.0</td>\n",
              "      <td>0.0</td>\n",
              "      <td>0.0</td>\n",
              "      <td>159.982708</td>\n",
              "    </tr>\n",
              "    <tr>\n",
              "      <th>...</th>\n",
              "      <td>...</td>\n",
              "      <td>...</td>\n",
              "      <td>...</td>\n",
              "      <td>...</td>\n",
              "      <td>...</td>\n",
              "      <td>...</td>\n",
              "      <td>...</td>\n",
              "      <td>...</td>\n",
              "      <td>...</td>\n",
              "      <td>...</td>\n",
              "      <td>...</td>\n",
              "      <td>...</td>\n",
              "      <td>...</td>\n",
              "      <td>...</td>\n",
              "      <td>...</td>\n",
              "      <td>...</td>\n",
              "      <td>...</td>\n",
              "      <td>...</td>\n",
              "      <td>...</td>\n",
              "    </tr>\n",
              "    <tr>\n",
              "      <th>1230</th>\n",
              "      <td>2018-06-07</td>\n",
              "      <td>245.456935</td>\n",
              "      <td>223.964827</td>\n",
              "      <td>257.420940</td>\n",
              "      <td>232.568686</td>\n",
              "      <td>260.046155</td>\n",
              "      <td>-5.470076</td>\n",
              "      <td>-5.470076</td>\n",
              "      <td>-5.470076</td>\n",
              "      <td>-1.260225</td>\n",
              "      <td>-1.260225</td>\n",
              "      <td>-1.260225</td>\n",
              "      <td>-4.209851</td>\n",
              "      <td>-4.209851</td>\n",
              "      <td>-4.209851</td>\n",
              "      <td>0.0</td>\n",
              "      <td>0.0</td>\n",
              "      <td>0.0</td>\n",
              "      <td>239.986860</td>\n",
              "    </tr>\n",
              "    <tr>\n",
              "      <th>1231</th>\n",
              "      <td>2018-06-08</td>\n",
              "      <td>245.675870</td>\n",
              "      <td>224.212750</td>\n",
              "      <td>257.436273</td>\n",
              "      <td>232.679415</td>\n",
              "      <td>260.350985</td>\n",
              "      <td>-5.314711</td>\n",
              "      <td>-5.314711</td>\n",
              "      <td>-5.314711</td>\n",
              "      <td>-1.141598</td>\n",
              "      <td>-1.141598</td>\n",
              "      <td>-1.141598</td>\n",
              "      <td>-4.173113</td>\n",
              "      <td>-4.173113</td>\n",
              "      <td>-4.173113</td>\n",
              "      <td>0.0</td>\n",
              "      <td>0.0</td>\n",
              "      <td>0.0</td>\n",
              "      <td>240.361159</td>\n",
              "    </tr>\n",
              "    <tr>\n",
              "      <th>1232</th>\n",
              "      <td>2018-06-09</td>\n",
              "      <td>245.894804</td>\n",
              "      <td>225.914135</td>\n",
              "      <td>258.125122</td>\n",
              "      <td>232.845164</td>\n",
              "      <td>260.641846</td>\n",
              "      <td>-4.826098</td>\n",
              "      <td>-4.826098</td>\n",
              "      <td>-4.826098</td>\n",
              "      <td>-0.689237</td>\n",
              "      <td>-0.689237</td>\n",
              "      <td>-0.689237</td>\n",
              "      <td>-4.136861</td>\n",
              "      <td>-4.136861</td>\n",
              "      <td>-4.136861</td>\n",
              "      <td>0.0</td>\n",
              "      <td>0.0</td>\n",
              "      <td>0.0</td>\n",
              "      <td>241.068707</td>\n",
              "    </tr>\n",
              "    <tr>\n",
              "      <th>1233</th>\n",
              "      <td>2018-06-10</td>\n",
              "      <td>246.113739</td>\n",
              "      <td>234.043180</td>\n",
              "      <td>266.891942</td>\n",
              "      <td>232.981610</td>\n",
              "      <td>260.951143</td>\n",
              "      <td>3.158801</td>\n",
              "      <td>3.158801</td>\n",
              "      <td>3.158801</td>\n",
              "      <td>7.256836</td>\n",
              "      <td>7.256836</td>\n",
              "      <td>7.256836</td>\n",
              "      <td>-4.098035</td>\n",
              "      <td>-4.098035</td>\n",
              "      <td>-4.098035</td>\n",
              "      <td>0.0</td>\n",
              "      <td>0.0</td>\n",
              "      <td>0.0</td>\n",
              "      <td>249.272540</td>\n",
              "    </tr>\n",
              "    <tr>\n",
              "      <th>1234</th>\n",
              "      <td>2018-06-11</td>\n",
              "      <td>246.332673</td>\n",
              "      <td>225.058111</td>\n",
              "      <td>258.839548</td>\n",
              "      <td>233.065709</td>\n",
              "      <td>261.260440</td>\n",
              "      <td>-5.341170</td>\n",
              "      <td>-5.341170</td>\n",
              "      <td>-5.341170</td>\n",
              "      <td>-1.287491</td>\n",
              "      <td>-1.287491</td>\n",
              "      <td>-1.287491</td>\n",
              "      <td>-4.053680</td>\n",
              "      <td>-4.053680</td>\n",
              "      <td>-4.053680</td>\n",
              "      <td>0.0</td>\n",
              "      <td>0.0</td>\n",
              "      <td>0.0</td>\n",
              "      <td>240.991503</td>\n",
              "    </tr>\n",
              "  </tbody>\n",
              "</table>\n",
              "<p>1235 rows × 19 columns</p>\n",
              "</div>"
            ],
            "text/plain": [
              "             ds       trend  ...  multiplicative_terms_upper        yhat\n",
              "0    2013-10-08  149.334671  ...                         0.0  157.993065\n",
              "1    2013-10-09  149.368305  ...                         0.0  158.410766\n",
              "2    2013-10-10  149.401940  ...                         0.0  158.821925\n",
              "3    2013-10-11  149.435574  ...                         0.0  159.246532\n",
              "4    2013-10-14  149.536478  ...                         0.0  159.982708\n",
              "...         ...         ...  ...                         ...         ...\n",
              "1230 2018-06-07  245.456935  ...                         0.0  239.986860\n",
              "1231 2018-06-08  245.675870  ...                         0.0  240.361159\n",
              "1232 2018-06-09  245.894804  ...                         0.0  241.068707\n",
              "1233 2018-06-10  246.113739  ...                         0.0  249.272540\n",
              "1234 2018-06-11  246.332673  ...                         0.0  240.991503\n",
              "\n",
              "[1235 rows x 19 columns]"
            ]
          },
          "metadata": {
            "tags": []
          },
          "execution_count": 14
        }
      ]
    },
    {
      "cell_type": "code",
      "metadata": {
        "id": "hfKYn2Hw7n_k",
        "colab_type": "code",
        "colab": {
          "base_uri": "https://localhost:8080/",
          "height": 34
        },
        "outputId": "b0874cfa-561d-41cb-ffd9-fb5d8e3b5030"
      },
      "source": [
        "#rmse\n",
        "forecast_valid = forecast['yhat'][987:]\n",
        "rms=np.sqrt(np.mean(np.power((np.array(valid['y'])-np.array(forecast_valid)),2)))\n",
        "rms"
      ],
      "execution_count": 15,
      "outputs": [
        {
          "output_type": "execute_result",
          "data": {
            "text/plain": [
              "57.49446193057514"
            ]
          },
          "metadata": {
            "tags": []
          },
          "execution_count": 15
        }
      ]
    },
    {
      "cell_type": "code",
      "metadata": {
        "id": "W2iw10Xs7oCc",
        "colab_type": "code",
        "colab": {
          "base_uri": "https://localhost:8080/",
          "height": 567
        },
        "outputId": "5130e545-035e-4216-8b40-059d34db66ea"
      },
      "source": [
        "#plot\n",
        "valid['Predictions'] = 0\n",
        "valid['Predictions'] = forecast_valid.values\n",
        "plt.plot(train['y'])\n",
        "plt.plot(valid[['y', 'Predictions']])"
      ],
      "execution_count": 16,
      "outputs": [
        {
          "output_type": "stream",
          "text": [
            "/usr/local/lib/python3.6/dist-packages/ipykernel_launcher.py:1: SettingWithCopyWarning:\n",
            "\n",
            "\n",
            "A value is trying to be set on a copy of a slice from a DataFrame.\n",
            "Try using .loc[row_indexer,col_indexer] = value instead\n",
            "\n",
            "See the caveats in the documentation: http://pandas.pydata.org/pandas-docs/stable/user_guide/indexing.html#returning-a-view-versus-a-copy\n",
            "\n",
            "/usr/local/lib/python3.6/dist-packages/ipykernel_launcher.py:2: SettingWithCopyWarning:\n",
            "\n",
            "\n",
            "A value is trying to be set on a copy of a slice from a DataFrame.\n",
            "Try using .loc[row_indexer,col_indexer] = value instead\n",
            "\n",
            "See the caveats in the documentation: http://pandas.pydata.org/pandas-docs/stable/user_guide/indexing.html#returning-a-view-versus-a-copy\n",
            "\n"
          ],
          "name": "stderr"
        },
        {
          "output_type": "execute_result",
          "data": {
            "text/plain": [
              "[<matplotlib.lines.Line2D at 0x7f18279960f0>,\n",
              " <matplotlib.lines.Line2D at 0x7f1827996588>]"
            ]
          },
          "metadata": {
            "tags": []
          },
          "execution_count": 16
        },
        {
          "output_type": "display_data",
          "data": {
            "image/png": "[encoded data removed]",
            "text/plain": [
              "<Figure size 432x288 with 1 Axes>"
            ]
          },
          "metadata": {
            "tags": []
          }
        }
      ]
    },
    {
      "cell_type": "code",
      "metadata": {
        "id": "W6PrOfdy7oEs",
        "colab_type": "code",
        "colab": {}
      },
      "source": [
        ""
      ],
      "execution_count": 0,
      "outputs": []
    },
    {
      "cell_type": "code",
      "metadata": {
        "id": "gxZCI9q67oHO",
        "colab_type": "code",
        "colab": {}
      },
      "source": [
        ""
      ],
      "execution_count": 0,
      "outputs": []
    },
    {
      "cell_type": "code",
      "metadata": {
        "id": "a3fsb7DL7oJe",
        "colab_type": "code",
        "colab": {}
      },
      "source": [
        ""
      ],
      "execution_count": 0,
      "outputs": []
    }
  ]
}